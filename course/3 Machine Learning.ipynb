{
  "nbformat": 4,
  "nbformat_minor": 0,
  "metadata": {
    "colab": {
      "name": "3 Machine Learning.ipynb",
      "version": "0.3.2",
      "provenance": []
    },
    "kernelspec": {
      "name": "python3",
      "display_name": "Python 3"
    },
    "accelerator": "TPU"
  },
  "cells": [
    {
      "metadata": {
        "id": "2YMEzJ4rCojK",
        "colab_type": "text"
      },
      "cell_type": "markdown",
      "source": [
        "# Linear Regression"
      ]
    },
    {
      "metadata": {
        "id": "f1GHiQQPCojN",
        "colab_type": "code",
        "colab": {}
      },
      "cell_type": "code",
      "source": [
        "%matplotlib inline\n",
        "import matplotlib.pyplot as plt\n",
        "import pandas as pd\n",
        "import numpy as np"
      ],
      "execution_count": 0,
      "outputs": []
    },
    {
      "metadata": {
        "id": "SahOkbG1CojQ",
        "colab_type": "code",
        "colab": {}
      },
      "cell_type": "code",
      "source": [
        "df = pd.read_csv('https://raw.githubusercontent.com/pampanelson/zero_to_deep_learning_video/master/data/weight-height.csv')"
      ],
      "execution_count": 0,
      "outputs": []
    },
    {
      "metadata": {
        "id": "2vFyb05RCojT",
        "colab_type": "code",
        "colab": {
          "base_uri": "https://localhost:8080/",
          "height": 204
        },
        "outputId": "6776cc85-4797-47e6-f096-5f2fba1643d4"
      },
      "cell_type": "code",
      "source": [
        "df.head()"
      ],
      "execution_count": 3,
      "outputs": [
        {
          "output_type": "execute_result",
          "data": {
            "text/html": [
              "<div>\n",
              "<style scoped>\n",
              "    .dataframe tbody tr th:only-of-type {\n",
              "        vertical-align: middle;\n",
              "    }\n",
              "\n",
              "    .dataframe tbody tr th {\n",
              "        vertical-align: top;\n",
              "    }\n",
              "\n",
              "    .dataframe thead th {\n",
              "        text-align: right;\n",
              "    }\n",
              "</style>\n",
              "<table border=\"1\" class=\"dataframe\">\n",
              "  <thead>\n",
              "    <tr style=\"text-align: right;\">\n",
              "      <th></th>\n",
              "      <th>Gender</th>\n",
              "      <th>Height</th>\n",
              "      <th>Weight</th>\n",
              "    </tr>\n",
              "  </thead>\n",
              "  <tbody>\n",
              "    <tr>\n",
              "      <th>0</th>\n",
              "      <td>Male</td>\n",
              "      <td>73.847017</td>\n",
              "      <td>241.893563</td>\n",
              "    </tr>\n",
              "    <tr>\n",
              "      <th>1</th>\n",
              "      <td>Male</td>\n",
              "      <td>68.781904</td>\n",
              "      <td>162.310473</td>\n",
              "    </tr>\n",
              "    <tr>\n",
              "      <th>2</th>\n",
              "      <td>Male</td>\n",
              "      <td>74.110105</td>\n",
              "      <td>212.740856</td>\n",
              "    </tr>\n",
              "    <tr>\n",
              "      <th>3</th>\n",
              "      <td>Male</td>\n",
              "      <td>71.730978</td>\n",
              "      <td>220.042470</td>\n",
              "    </tr>\n",
              "    <tr>\n",
              "      <th>4</th>\n",
              "      <td>Male</td>\n",
              "      <td>69.881796</td>\n",
              "      <td>206.349801</td>\n",
              "    </tr>\n",
              "  </tbody>\n",
              "</table>\n",
              "</div>"
            ],
            "text/plain": [
              "  Gender     Height      Weight\n",
              "0   Male  73.847017  241.893563\n",
              "1   Male  68.781904  162.310473\n",
              "2   Male  74.110105  212.740856\n",
              "3   Male  71.730978  220.042470\n",
              "4   Male  69.881796  206.349801"
            ]
          },
          "metadata": {
            "tags": []
          },
          "execution_count": 3
        }
      ]
    },
    {
      "metadata": {
        "id": "pB4QTVCACojW",
        "colab_type": "code",
        "colab": {
          "base_uri": "https://localhost:8080/",
          "height": 348
        },
        "outputId": "3df20439-2a2e-41e2-e20b-fb3e831393d5"
      },
      "cell_type": "code",
      "source": [
        "df.plot(kind='scatter',\n",
        "        x='Height',\n",
        "        y='Weight',\n",
        "        title='Weight and Height in adults')"
      ],
      "execution_count": 4,
      "outputs": [
        {
          "output_type": "stream",
          "text": [
            "'c' argument looks like a single numeric RGB or RGBA sequence, which should be avoided as value-mapping will have precedence in case its length matches with 'x' & 'y'.  Please use a 2-D array with a single row if you really want to specify the same RGB or RGBA value for all points.\n"
          ],
          "name": "stderr"
        },
        {
          "output_type": "execute_result",
          "data": {
            "text/plain": [
              "<matplotlib.axes._subplots.AxesSubplot at 0x7f5c122aaa20>"
            ]
          },
          "metadata": {
            "tags": []
          },
          "execution_count": 4
        },
        {
          "output_type": "display_data",
          "data": {
            "image/png": "[encoded data removed]",
            "text/plain": [
              "<Figure size 432x288 with 1 Axes>"
            ]
          },
          "metadata": {
            "tags": []
          }
        }
      ]
    },
    {
      "metadata": {
        "id": "68V6p1eqCojZ",
        "colab_type": "code",
        "colab": {
          "base_uri": "https://localhost:8080/",
          "height": 348
        },
        "outputId": "d593ac9f-b76b-43eb-ee28-64b984026774"
      },
      "cell_type": "code",
      "source": [
        "df.plot(kind='scatter',\n",
        "        x='Height',\n",
        "        y='Weight',\n",
        "        title='Weight and Height in adults')\n",
        "\n",
        "# Here we're plotting the red line 'by hand' with fixed values\n",
        "# We'll try to learn this line with an algorithm below\n",
        "plt.plot([55, 78], [75, 250], color='red', linewidth=3)"
      ],
      "execution_count": 5,
      "outputs": [
        {
          "output_type": "stream",
          "text": [
            "'c' argument looks like a single numeric RGB or RGBA sequence, which should be avoided as value-mapping will have precedence in case its length matches with 'x' & 'y'.  Please use a 2-D array with a single row if you really want to specify the same RGB or RGBA value for all points.\n"
          ],
          "name": "stderr"
        },
        {
          "output_type": "execute_result",
          "data": {
            "text/plain": [
              "[<matplotlib.lines.Line2D at 0x7f5c1221c0b8>]"
            ]
          },
          "metadata": {
            "tags": []
          },
          "execution_count": 5
        },
        {
          "output_type": "display_data",
          "data": {
            "image/png": "[encoded data removed]",
            "text/plain": [
              "<Figure size 432x288 with 1 Axes>"
            ]
          },
          "metadata": {
            "tags": []
          }
        }
      ]
    },
    {
      "metadata": {
        "id": "wz14vkOECojc",
        "colab_type": "code",
        "colab": {}
      },
      "cell_type": "code",
      "source": [
        "def line(x, w=0, b=0):\n",
        "    return x * w + b"
      ],
      "execution_count": 0,
      "outputs": []
    },
    {
      "metadata": {
        "id": "_C57BvhRCojf",
        "colab_type": "code",
        "colab": {}
      },
      "cell_type": "code",
      "source": [
        "x = np.linspace(55, 80, 100)"
      ],
      "execution_count": 0,
      "outputs": []
    },
    {
      "metadata": {
        "id": "5v8F9q7HCojh",
        "colab_type": "code",
        "colab": {
          "base_uri": "https://localhost:8080/",
          "height": 357
        },
        "outputId": "39aaa4b0-7edb-4b2f-d8c8-5be12bfb37c6"
      },
      "cell_type": "code",
      "source": [
        "x"
      ],
      "execution_count": 8,
      "outputs": [
        {
          "output_type": "execute_result",
          "data": {
            "text/plain": [
              "array([55.        , 55.25252525, 55.50505051, 55.75757576, 56.01010101,\n",
              "       56.26262626, 56.51515152, 56.76767677, 57.02020202, 57.27272727,\n",
              "       57.52525253, 57.77777778, 58.03030303, 58.28282828, 58.53535354,\n",
              "       58.78787879, 59.04040404, 59.29292929, 59.54545455, 59.7979798 ,\n",
              "       60.05050505, 60.3030303 , 60.55555556, 60.80808081, 61.06060606,\n",
              "       61.31313131, 61.56565657, 61.81818182, 62.07070707, 62.32323232,\n",
              "       62.57575758, 62.82828283, 63.08080808, 63.33333333, 63.58585859,\n",
              "       63.83838384, 64.09090909, 64.34343434, 64.5959596 , 64.84848485,\n",
              "       65.1010101 , 65.35353535, 65.60606061, 65.85858586, 66.11111111,\n",
              "       66.36363636, 66.61616162, 66.86868687, 67.12121212, 67.37373737,\n",
              "       67.62626263, 67.87878788, 68.13131313, 68.38383838, 68.63636364,\n",
              "       68.88888889, 69.14141414, 69.39393939, 69.64646465, 69.8989899 ,\n",
              "       70.15151515, 70.4040404 , 70.65656566, 70.90909091, 71.16161616,\n",
              "       71.41414141, 71.66666667, 71.91919192, 72.17171717, 72.42424242,\n",
              "       72.67676768, 72.92929293, 73.18181818, 73.43434343, 73.68686869,\n",
              "       73.93939394, 74.19191919, 74.44444444, 74.6969697 , 74.94949495,\n",
              "       75.2020202 , 75.45454545, 75.70707071, 75.95959596, 76.21212121,\n",
              "       76.46464646, 76.71717172, 76.96969697, 77.22222222, 77.47474747,\n",
              "       77.72727273, 77.97979798, 78.23232323, 78.48484848, 78.73737374,\n",
              "       78.98989899, 79.24242424, 79.49494949, 79.74747475, 80.        ])"
            ]
          },
          "metadata": {
            "tags": []
          },
          "execution_count": 8
        }
      ]
    },
    {
      "metadata": {
        "id": "gVSe_rDVCojl",
        "colab_type": "code",
        "colab": {}
      },
      "cell_type": "code",
      "source": [
        "yhat = line(x, w=0, b=0)"
      ],
      "execution_count": 0,
      "outputs": []
    },
    {
      "metadata": {
        "id": "-esoWaMOCojo",
        "colab_type": "code",
        "colab": {
          "base_uri": "https://localhost:8080/",
          "height": 119
        },
        "outputId": "a7f11306-b1a6-48f0-c0a3-b7d5238d4e16"
      },
      "cell_type": "code",
      "source": [
        "yhat"
      ],
      "execution_count": 10,
      "outputs": [
        {
          "output_type": "execute_result",
          "data": {
            "text/plain": [
              "array([0., 0., 0., 0., 0., 0., 0., 0., 0., 0., 0., 0., 0., 0., 0., 0., 0.,\n",
              "       0., 0., 0., 0., 0., 0., 0., 0., 0., 0., 0., 0., 0., 0., 0., 0., 0.,\n",
              "       0., 0., 0., 0., 0., 0., 0., 0., 0., 0., 0., 0., 0., 0., 0., 0., 0.,\n",
              "       0., 0., 0., 0., 0., 0., 0., 0., 0., 0., 0., 0., 0., 0., 0., 0., 0.,\n",
              "       0., 0., 0., 0., 0., 0., 0., 0., 0., 0., 0., 0., 0., 0., 0., 0., 0.,\n",
              "       0., 0., 0., 0., 0., 0., 0., 0., 0., 0., 0., 0., 0., 0., 0.])"
            ]
          },
          "metadata": {
            "tags": []
          },
          "execution_count": 10
        }
      ]
    },
    {
      "metadata": {
        "id": "vaTFrAK_Cojr",
        "colab_type": "code",
        "colab": {
          "base_uri": "https://localhost:8080/",
          "height": 348
        },
        "outputId": "559df833-37aa-4a9a-f133-7ad043dc25e7"
      },
      "cell_type": "code",
      "source": [
        "df.plot(kind='scatter',\n",
        "        x='Height',\n",
        "        y='Weight',\n",
        "        title='Weight and Height in adults')\n",
        "plt.plot(x, yhat, color='red', linewidth=3)"
      ],
      "execution_count": 11,
      "outputs": [
        {
          "output_type": "stream",
          "text": [
            "'c' argument looks like a single numeric RGB or RGBA sequence, which should be avoided as value-mapping will have precedence in case its length matches with 'x' & 'y'.  Please use a 2-D array with a single row if you really want to specify the same RGB or RGBA value for all points.\n"
          ],
          "name": "stderr"
        },
        {
          "output_type": "execute_result",
          "data": {
            "text/plain": [
              "[<matplotlib.lines.Line2D at 0x7f5c10170908>]"
            ]
          },
          "metadata": {
            "tags": []
          },
          "execution_count": 11
        },
        {
          "output_type": "display_data",
          "data": {
            "image/png": "[encoded data removed]",
            "text/plain": [
              "<Figure size 432x288 with 1 Axes>"
            ]
          },
          "metadata": {
            "tags": []
          }
        }
      ]
    },
    {
      "metadata": {
        "id": "CwLoQYukCojv",
        "colab_type": "text"
      },
      "cell_type": "markdown",
      "source": [
        "### Cost Function"
      ]
    },
    {
      "metadata": {
        "id": "FG2AlYarCojv",
        "colab_type": "code",
        "colab": {}
      },
      "cell_type": "code",
      "source": [
        "def mean_squared_error(y_true, y_pred):\n",
        "    s = (y_true - y_pred)**2\n",
        "    return s.mean()"
      ],
      "execution_count": 0,
      "outputs": []
    },
    {
      "metadata": {
        "id": "_4hWN8YwCojy",
        "colab_type": "code",
        "colab": {}
      },
      "cell_type": "code",
      "source": [
        "X = df[['Height']].values\n",
        "y_true = df['Weight'].values"
      ],
      "execution_count": 0,
      "outputs": []
    },
    {
      "metadata": {
        "id": "QjuBLTu1Coj0",
        "colab_type": "code",
        "colab": {
          "base_uri": "https://localhost:8080/",
          "height": 51
        },
        "outputId": "6c290b77-3216-4961-95e4-ba41e105a989"
      },
      "cell_type": "code",
      "source": [
        "y_true"
      ],
      "execution_count": 14,
      "outputs": [
        {
          "output_type": "execute_result",
          "data": {
            "text/plain": [
              "array([241.89356318, 162.31047252, 212.74085556, ..., 128.47531878,\n",
              "       163.85246135, 113.64910268])"
            ]
          },
          "metadata": {
            "tags": []
          },
          "execution_count": 14
        }
      ]
    },
    {
      "metadata": {
        "id": "1fqFbqi-Coj2",
        "colab_type": "code",
        "colab": {}
      },
      "cell_type": "code",
      "source": [
        "y_pred = line(X)"
      ],
      "execution_count": 0,
      "outputs": []
    },
    {
      "metadata": {
        "id": "s6Ei9a5ICoj4",
        "colab_type": "code",
        "colab": {
          "base_uri": "https://localhost:8080/",
          "height": 136
        },
        "outputId": "4d32d3e8-f0fc-412e-f4b6-0bc0e5f6eac2"
      },
      "cell_type": "code",
      "source": [
        "y_pred"
      ],
      "execution_count": 16,
      "outputs": [
        {
          "output_type": "execute_result",
          "data": {
            "text/plain": [
              "array([[0.],\n",
              "       [0.],\n",
              "       [0.],\n",
              "       ...,\n",
              "       [0.],\n",
              "       [0.],\n",
              "       [0.]])"
            ]
          },
          "metadata": {
            "tags": []
          },
          "execution_count": 16
        }
      ]
    },
    {
      "metadata": {
        "id": "JaxYtF63Coj8",
        "colab_type": "code",
        "colab": {
          "base_uri": "https://localhost:8080/",
          "height": 34
        },
        "outputId": "d328496f-f6e3-4076-8926-4c71cc9108bb"
      },
      "cell_type": "code",
      "source": [
        "mean_squared_error(y_true, y_pred.ravel())"
      ],
      "execution_count": 17,
      "outputs": [
        {
          "output_type": "execute_result",
          "data": {
            "text/plain": [
              "27093.83757456157"
            ]
          },
          "metadata": {
            "tags": []
          },
          "execution_count": 17
        }
      ]
    },
    {
      "metadata": {
        "id": "oJAE1jVdCoj-",
        "colab_type": "text"
      },
      "cell_type": "markdown",
      "source": [
        "### you do it!\n",
        "\n",
        "Try changing the values of the parameters b and w in the line above and plot it again to see how the plot and the cost  change."
      ]
    },
    {
      "metadata": {
        "id": "YspjHa4HCoj_",
        "colab_type": "code",
        "colab": {}
      },
      "cell_type": "code",
      "source": [
        ""
      ],
      "execution_count": 0,
      "outputs": []
    },
    {
      "metadata": {
        "id": "gvx-BQaqCokB",
        "colab_type": "code",
        "colab": {
          "base_uri": "https://localhost:8080/",
          "height": 403
        },
        "outputId": "c1589648-795f-4b66-e51e-250a9af6f006"
      },
      "cell_type": "code",
      "source": [
        "plt.figure(figsize=(10, 5))\n",
        "\n",
        "# we are going to draw 2 plots in the same figure\n",
        "# first plot, data and a few lines\n",
        "ax1 = plt.subplot(121)\n",
        "df.plot(kind='scatter',\n",
        "        x='Height',\n",
        "        y='Weight',\n",
        "        title='Weight and Height in adults', ax=ax1)\n",
        "\n",
        "# let's explore the cost function for a few values of b between -100 and +150\n",
        "bbs = np.array([-100, -50, 0, 50, 100, 150])\n",
        "mses = []  # we will append the values of the cost here, for each line\n",
        "for b in bbs:\n",
        "    y_pred = line(X, w=2, b=b)\n",
        "    mse = mean_squared_error(y_true, y_pred)\n",
        "    mses.append(mse)\n",
        "    plt.plot(X, y_pred)\n",
        "\n",
        "# second plot: Cost function\n",
        "ax2 = plt.subplot(122)\n",
        "plt.plot(bbs, mses, 'o-')\n",
        "plt.title('Cost as a function of b')\n",
        "plt.xlabel('b')"
      ],
      "execution_count": 18,
      "outputs": [
        {
          "output_type": "stream",
          "text": [
            "'c' argument looks like a single numeric RGB or RGBA sequence, which should be avoided as value-mapping will have precedence in case its length matches with 'x' & 'y'.  Please use a 2-D array with a single row if you really want to specify the same RGB or RGBA value for all points.\n"
          ],
          "name": "stderr"
        },
        {
          "output_type": "execute_result",
          "data": {
            "text/plain": [
              "Text(0.5, 0, 'b')"
            ]
          },
          "metadata": {
            "tags": []
          },
          "execution_count": 18
        },
        {
          "output_type": "display_data",
          "data": {
            "image/png": "[encoded data removed]",
            "text/plain": [
              "<Figure size 720x360 with 2 Axes>"
            ]
          },
          "metadata": {
            "tags": []
          }
        }
      ]
    },
    {
      "metadata": {
        "id": "fuJQrOq2CokE",
        "colab_type": "text"
      },
      "cell_type": "markdown",
      "source": [
        "## Linear Regression with Keras"
      ]
    },
    {
      "metadata": {
        "id": "I_N1yXpGCokF",
        "colab_type": "code",
        "colab": {
          "base_uri": "https://localhost:8080/",
          "height": 54
        },
        "outputId": "22ca61a9-6a17-4639-efa4-d2e48f854ab9"
      },
      "cell_type": "code",
      "source": [
        "from keras.models import Sequential\n",
        "from keras.layers import Dense\n",
        "from keras.optimizers import Adam, SGD"
      ],
      "execution_count": 19,
      "outputs": [
        {
          "output_type": "stream",
          "text": [
            "Using TensorFlow backend.\n"
          ],
          "name": "stderr"
        }
      ]
    },
    {
      "metadata": {
        "id": "Z_7QID86CokH",
        "colab_type": "code",
        "colab": {}
      },
      "cell_type": "code",
      "source": [
        "model = Sequential()"
      ],
      "execution_count": 0,
      "outputs": []
    },
    {
      "metadata": {
        "id": "velu_nQFCokJ",
        "colab_type": "code",
        "colab": {
          "base_uri": "https://localhost:8080/",
          "height": 88
        },
        "outputId": "98858b17-89bb-43a9-92c8-7d6d8b1a2da8"
      },
      "cell_type": "code",
      "source": [
        "model.add(Dense(1, input_shape=(1,)))"
      ],
      "execution_count": 21,
      "outputs": [
        {
          "output_type": "stream",
          "text": [
            "WARNING:tensorflow:From /usr/local/lib/python3.6/dist-packages/tensorflow/python/framework/op_def_library.py:263: colocate_with (from tensorflow.python.framework.ops) is deprecated and will be removed in a future version.\n",
            "Instructions for updating:\n",
            "Colocations handled automatically by placer.\n"
          ],
          "name": "stdout"
        }
      ]
    },
    {
      "metadata": {
        "id": "A6w2Rh0mCokM",
        "colab_type": "code",
        "colab": {
          "base_uri": "https://localhost:8080/",
          "height": 190
        },
        "outputId": "bae7b0af-b6d6-4703-d0cd-b1a6c8a35939"
      },
      "cell_type": "code",
      "source": [
        "model.summary()"
      ],
      "execution_count": 22,
      "outputs": [
        {
          "output_type": "stream",
          "text": [
            "_________________________________________________________________\n",
            "Layer (type)                 Output Shape              Param #   \n",
            "=================================================================\n",
            "dense_1 (Dense)              (None, 1)                 2         \n",
            "=================================================================\n",
            "Total params: 2\n",
            "Trainable params: 2\n",
            "Non-trainable params: 0\n",
            "_________________________________________________________________\n"
          ],
          "name": "stdout"
        }
      ]
    },
    {
      "metadata": {
        "id": "1MV_oYAjCokO",
        "colab_type": "code",
        "colab": {}
      },
      "cell_type": "code",
      "source": [
        "model.compile(Adam(lr=0.8), 'mean_squared_error')"
      ],
      "execution_count": 0,
      "outputs": []
    },
    {
      "metadata": {
        "id": "rbv1lIZ-CokQ",
        "colab_type": "code",
        "colab": {
          "base_uri": "https://localhost:8080/",
          "height": 1465
        },
        "outputId": "3e2d57eb-3921-4c74-ed57-43c118b7616e"
      },
      "cell_type": "code",
      "source": [
        "model.fit(X, y_true, epochs=40)"
      ],
      "execution_count": 24,
      "outputs": [
        {
          "output_type": "stream",
          "text": [
            "WARNING:tensorflow:From /usr/local/lib/python3.6/dist-packages/tensorflow/python/ops/math_ops.py:3066: to_int32 (from tensorflow.python.ops.math_ops) is deprecated and will be removed in a future version.\n",
            "Instructions for updating:\n",
            "Use tf.cast instead.\n",
            "Epoch 1/40\n",
            "10000/10000 [==============================] - 1s 70us/step - loss: 991.7610\n",
            "Epoch 2/40\n",
            "10000/10000 [==============================] - 0s 24us/step - loss: 546.4326\n",
            "Epoch 3/40\n",
            "10000/10000 [==============================] - 0s 25us/step - loss: 525.6275\n",
            "Epoch 4/40\n",
            "10000/10000 [==============================] - 0s 25us/step - loss: 473.7346\n",
            "Epoch 5/40\n",
            "10000/10000 [==============================] - 0s 24us/step - loss: 445.6656\n",
            "Epoch 6/40\n",
            "10000/10000 [==============================] - 0s 25us/step - loss: 409.3046\n",
            "Epoch 7/40\n",
            "10000/10000 [==============================] - 0s 25us/step - loss: 359.2531\n",
            "Epoch 8/40\n",
            "10000/10000 [==============================] - 0s 26us/step - loss: 315.4558\n",
            "Epoch 9/40\n",
            "10000/10000 [==============================] - 0s 25us/step - loss: 292.3495\n",
            "Epoch 10/40\n",
            "10000/10000 [==============================] - 0s 25us/step - loss: 268.6879\n",
            "Epoch 11/40\n",
            "10000/10000 [==============================] - 0s 26us/step - loss: 260.8627\n",
            "Epoch 12/40\n",
            "10000/10000 [==============================] - 0s 24us/step - loss: 237.7631\n",
            "Epoch 13/40\n",
            "10000/10000 [==============================] - 0s 24us/step - loss: 223.7902\n",
            "Epoch 14/40\n",
            "10000/10000 [==============================] - 0s 24us/step - loss: 228.5118\n",
            "Epoch 15/40\n",
            "10000/10000 [==============================] - 0s 25us/step - loss: 205.0116\n",
            "Epoch 16/40\n",
            "10000/10000 [==============================] - 0s 25us/step - loss: 197.6363\n",
            "Epoch 17/40\n",
            "10000/10000 [==============================] - 0s 24us/step - loss: 201.9243\n",
            "Epoch 18/40\n",
            "10000/10000 [==============================] - 0s 25us/step - loss: 191.0431\n",
            "Epoch 19/40\n",
            "10000/10000 [==============================] - 0s 25us/step - loss: 195.6632\n",
            "Epoch 20/40\n",
            "10000/10000 [==============================] - 0s 24us/step - loss: 179.3952\n",
            "Epoch 21/40\n",
            "10000/10000 [==============================] - 0s 24us/step - loss: 172.9275\n",
            "Epoch 22/40\n",
            "10000/10000 [==============================] - 0s 24us/step - loss: 182.7373\n",
            "Epoch 23/40\n",
            "10000/10000 [==============================] - 0s 25us/step - loss: 183.9117\n",
            "Epoch 24/40\n",
            "10000/10000 [==============================] - 0s 24us/step - loss: 184.9132\n",
            "Epoch 25/40\n",
            "10000/10000 [==============================] - 0s 24us/step - loss: 180.3176\n",
            "Epoch 26/40\n",
            "10000/10000 [==============================] - 0s 24us/step - loss: 184.4942\n",
            "Epoch 27/40\n",
            "10000/10000 [==============================] - 0s 25us/step - loss: 173.9377\n",
            "Epoch 28/40\n",
            "10000/10000 [==============================] - 0s 26us/step - loss: 180.3779\n",
            "Epoch 29/40\n",
            "10000/10000 [==============================] - 0s 24us/step - loss: 184.8365\n",
            "Epoch 30/40\n",
            "10000/10000 [==============================] - 0s 25us/step - loss: 169.6478\n",
            "Epoch 31/40\n",
            "10000/10000 [==============================] - 0s 24us/step - loss: 178.2298\n",
            "Epoch 32/40\n",
            "10000/10000 [==============================] - 0s 24us/step - loss: 175.7569\n",
            "Epoch 33/40\n",
            "10000/10000 [==============================] - 0s 23us/step - loss: 183.8678\n",
            "Epoch 34/40\n",
            "10000/10000 [==============================] - 0s 25us/step - loss: 173.0366\n",
            "Epoch 35/40\n",
            "10000/10000 [==============================] - 0s 23us/step - loss: 174.8720\n",
            "Epoch 36/40\n",
            "10000/10000 [==============================] - 0s 24us/step - loss: 176.5850\n",
            "Epoch 37/40\n",
            "10000/10000 [==============================] - 0s 24us/step - loss: 173.1544\n",
            "Epoch 38/40\n",
            "10000/10000 [==============================] - 0s 24us/step - loss: 180.5966\n",
            "Epoch 39/40\n",
            "10000/10000 [==============================] - 0s 24us/step - loss: 173.6528\n",
            "Epoch 40/40\n",
            "10000/10000 [==============================] - 0s 24us/step - loss: 180.5850\n"
          ],
          "name": "stdout"
        },
        {
          "output_type": "execute_result",
          "data": {
            "text/plain": [
              "<keras.callbacks.History at 0x7f5bff3a46d8>"
            ]
          },
          "metadata": {
            "tags": []
          },
          "execution_count": 24
        }
      ]
    },
    {
      "metadata": {
        "id": "_Ep3ZQOMCokW",
        "colab_type": "code",
        "colab": {}
      },
      "cell_type": "code",
      "source": [
        "y_pred = model.predict(X)"
      ],
      "execution_count": 0,
      "outputs": []
    },
    {
      "metadata": {
        "id": "OapNc7NSCokZ",
        "colab_type": "code",
        "colab": {
          "base_uri": "https://localhost:8080/",
          "height": 348
        },
        "outputId": "c28b4a1f-3d4f-494a-e42d-6d800d363e47"
      },
      "cell_type": "code",
      "source": [
        "df.plot(kind='scatter',\n",
        "        x='Height',\n",
        "        y='Weight',\n",
        "        title='Weight and Height in adults')\n",
        "plt.plot(X, y_pred, color='red')"
      ],
      "execution_count": 26,
      "outputs": [
        {
          "output_type": "stream",
          "text": [
            "'c' argument looks like a single numeric RGB or RGBA sequence, which should be avoided as value-mapping will have precedence in case its length matches with 'x' & 'y'.  Please use a 2-D array with a single row if you really want to specify the same RGB or RGBA value for all points.\n"
          ],
          "name": "stderr"
        },
        {
          "output_type": "execute_result",
          "data": {
            "text/plain": [
              "[<matplotlib.lines.Line2D at 0x7f5bfa173940>]"
            ]
          },
          "metadata": {
            "tags": []
          },
          "execution_count": 26
        },
        {
          "output_type": "display_data",
          "data": {
            "image/png": "[encoded data removed]",
            "text/plain": [
              "<Figure size 432x288 with 1 Axes>"
            ]
          },
          "metadata": {
            "tags": []
          }
        }
      ]
    },
    {
      "metadata": {
        "id": "aB1HR4TWCokd",
        "colab_type": "code",
        "colab": {}
      },
      "cell_type": "code",
      "source": [
        "W, B = model.get_weights()"
      ],
      "execution_count": 0,
      "outputs": []
    },
    {
      "metadata": {
        "id": "LwV2vrBiCokh",
        "colab_type": "code",
        "colab": {
          "base_uri": "https://localhost:8080/",
          "height": 54
        },
        "outputId": "ab48cd7c-0dcd-4e66-a191-18200d951898"
      },
      "cell_type": "code",
      "source": [
        "W"
      ],
      "execution_count": 28,
      "outputs": [
        {
          "output_type": "execute_result",
          "data": {
            "text/plain": [
              "array([[7.6825604]], dtype=float32)"
            ]
          },
          "metadata": {
            "tags": []
          },
          "execution_count": 28
        }
      ]
    },
    {
      "metadata": {
        "id": "2KnCv1qmCokl",
        "colab_type": "code",
        "colab": {
          "base_uri": "https://localhost:8080/",
          "height": 54
        },
        "outputId": "4497fb3e-d492-43ea-8b30-7c181740676e"
      },
      "cell_type": "code",
      "source": [
        "B"
      ],
      "execution_count": 29,
      "outputs": [
        {
          "output_type": "execute_result",
          "data": {
            "text/plain": [
              "array([-348.21268], dtype=float32)"
            ]
          },
          "metadata": {
            "tags": []
          },
          "execution_count": 29
        }
      ]
    },
    {
      "metadata": {
        "id": "MsYmp10LCokn",
        "colab_type": "text"
      },
      "cell_type": "markdown",
      "source": [
        "## Evaluating Model Performance"
      ]
    },
    {
      "metadata": {
        "id": "YOg93yhPCoko",
        "colab_type": "code",
        "colab": {}
      },
      "cell_type": "code",
      "source": [
        "from sklearn.metrics import r2_score"
      ],
      "execution_count": 0,
      "outputs": []
    },
    {
      "metadata": {
        "id": "sNIyjRRCCokp",
        "colab_type": "code",
        "colab": {
          "base_uri": "https://localhost:8080/",
          "height": 54
        },
        "outputId": "6bbb5ea3-d306-427c-fa7f-e858c447370d"
      },
      "cell_type": "code",
      "source": [
        "print(\"The R2 score is {:0.3f}\".format(r2_score(y_true, y_pred)))"
      ],
      "execution_count": 31,
      "outputs": [
        {
          "output_type": "stream",
          "text": [
            "The R2 score is 0.855\n"
          ],
          "name": "stdout"
        }
      ]
    },
    {
      "metadata": {
        "id": "MtfHihAWCokr",
        "colab_type": "text"
      },
      "cell_type": "markdown",
      "source": [
        "### Train Test Split"
      ]
    },
    {
      "metadata": {
        "id": "eWJ3FdkZCoks",
        "colab_type": "code",
        "colab": {}
      },
      "cell_type": "code",
      "source": [
        "from sklearn.model_selection import train_test_split"
      ],
      "execution_count": 0,
      "outputs": []
    },
    {
      "metadata": {
        "id": "NPqq2STSCoku",
        "colab_type": "code",
        "colab": {}
      },
      "cell_type": "code",
      "source": [
        "X_train, X_test, y_train, y_test = train_test_split(X, y_true,\n",
        "                                                    test_size=0.2)"
      ],
      "execution_count": 0,
      "outputs": []
    },
    {
      "metadata": {
        "id": "Z9lFN6MKCokw",
        "colab_type": "code",
        "colab": {
          "base_uri": "https://localhost:8080/",
          "height": 54
        },
        "outputId": "11c4cc23-def6-450a-eb9c-bf704eb5ce63"
      },
      "cell_type": "code",
      "source": [
        "len(X_train)"
      ],
      "execution_count": 34,
      "outputs": [
        {
          "output_type": "execute_result",
          "data": {
            "text/plain": [
              "8000"
            ]
          },
          "metadata": {
            "tags": []
          },
          "execution_count": 34
        }
      ]
    },
    {
      "metadata": {
        "id": "nXmdXRgoCoky",
        "colab_type": "code",
        "colab": {
          "base_uri": "https://localhost:8080/",
          "height": 54
        },
        "outputId": "0d23353c-7293-457d-8625-682fe45c1451"
      },
      "cell_type": "code",
      "source": [
        "len(X_test)"
      ],
      "execution_count": 35,
      "outputs": [
        {
          "output_type": "execute_result",
          "data": {
            "text/plain": [
              "2000"
            ]
          },
          "metadata": {
            "tags": []
          },
          "execution_count": 35
        }
      ]
    },
    {
      "metadata": {
        "id": "gcgOgVa3Cok0",
        "colab_type": "code",
        "colab": {}
      },
      "cell_type": "code",
      "source": [
        "W[0, 0] = 0.0\n",
        "B[0] = 0.0\n",
        "model.set_weights((W, B))"
      ],
      "execution_count": 0,
      "outputs": []
    },
    {
      "metadata": {
        "id": "PB0vQIdSCok6",
        "colab_type": "code",
        "colab": {
          "base_uri": "https://localhost:8080/",
          "height": 54
        },
        "outputId": "f3a202e7-1949-480f-f82d-d301d38a8568"
      },
      "cell_type": "code",
      "source": [
        "model.fit(X_train, y_train, epochs=50, verbose=0)"
      ],
      "execution_count": 37,
      "outputs": [
        {
          "output_type": "execute_result",
          "data": {
            "text/plain": [
              "<keras.callbacks.History at 0x7f5bf87be128>"
            ]
          },
          "metadata": {
            "tags": []
          },
          "execution_count": 37
        }
      ]
    },
    {
      "metadata": {
        "id": "abUn8qHNCok8",
        "colab_type": "code",
        "colab": {}
      },
      "cell_type": "code",
      "source": [
        "y_train_pred = model.predict(X_train).ravel()\n",
        "y_test_pred = model.predict(X_test).ravel()"
      ],
      "execution_count": 0,
      "outputs": []
    },
    {
      "metadata": {
        "id": "hUjpirUpCok_",
        "colab_type": "code",
        "colab": {}
      },
      "cell_type": "code",
      "source": [
        "from sklearn.metrics import mean_squared_error as mse"
      ],
      "execution_count": 0,
      "outputs": []
    },
    {
      "metadata": {
        "id": "JLciqDFTColB",
        "colab_type": "code",
        "colab": {
          "base_uri": "https://localhost:8080/",
          "height": 71
        },
        "outputId": "4eef87e7-b312-4dce-a04d-930023838ca2"
      },
      "cell_type": "code",
      "source": [
        "print(\"The Mean Squared Error on the Train set is:\\t{:0.1f}\".format(mse(y_train, y_train_pred)))\n",
        "print(\"The Mean Squared Error on the Test set is:\\t{:0.1f}\".format(mse(y_test, y_test_pred)))"
      ],
      "execution_count": 40,
      "outputs": [
        {
          "output_type": "stream",
          "text": [
            "The Mean Squared Error on the Train set is:\t152.8\n",
            "The Mean Squared Error on the Test set is:\t151.7\n"
          ],
          "name": "stdout"
        }
      ]
    },
    {
      "metadata": {
        "id": "K4O94sC3ColD",
        "colab_type": "code",
        "colab": {
          "base_uri": "https://localhost:8080/",
          "height": 71
        },
        "outputId": "04ad106a-da56-4ecd-80bf-13874d5b2e94"
      },
      "cell_type": "code",
      "source": [
        "print(\"The R2 score on the Train set is:\\t{:0.3f}\".format(r2_score(y_train, y_train_pred)))\n",
        "print(\"The R2 score on the Test set is:\\t{:0.3f}\".format(r2_score(y_test, y_test_pred)))"
      ],
      "execution_count": 41,
      "outputs": [
        {
          "output_type": "stream",
          "text": [
            "The R2 score on the Train set is:\t0.851\n",
            "The R2 score on the Test set is:\t0.856\n"
          ],
          "name": "stdout"
        }
      ]
    },
    {
      "metadata": {
        "id": "ao-3tBR_ColE",
        "colab_type": "text"
      },
      "cell_type": "markdown",
      "source": [
        "# Classification"
      ]
    },
    {
      "metadata": {
        "id": "xYKw9PWlColF",
        "colab_type": "code",
        "colab": {
          "base_uri": "https://localhost:8080/"
        },
        "outputId": "2f918a7c-65f3-4523-a92d-960469241c78"
      },
      "cell_type": "code",
      "source": [
        "df = pd.read_csv('../data/user_visit_duration.csv')"
      ],
      "execution_count": 42,
      "outputs": [
        {
          "output_type": "error",
          "ename": "FileNotFoundError",
          "evalue": "ignored",
          "traceback": [
            "\u001b[0;31m---------------------------------------------------------------------------\u001b[0m",
            "\u001b[0;31mFileNotFoundError\u001b[0m                         Traceback (most recent call last)",
            "\u001b[0;32m<ipython-input-42-b9a2e29708bf>\u001b[0m in \u001b[0;36m<module>\u001b[0;34m()\u001b[0m\n\u001b[0;32m----> 1\u001b[0;31m \u001b[0mdf\u001b[0m \u001b[0;34m=\u001b[0m \u001b[0mpd\u001b[0m\u001b[0;34m.\u001b[0m\u001b[0mread_csv\u001b[0m\u001b[0;34m(\u001b[0m\u001b[0;34m'../data/user_visit_duration.csv'\u001b[0m\u001b[0;34m)\u001b[0m\u001b[0;34m\u001b[0m\u001b[0;34m\u001b[0m\u001b[0m\n\u001b[0m",
            "\u001b[0;32m/usr/local/lib/python3.6/dist-packages/pandas/io/parsers.py\u001b[0m in \u001b[0;36mparser_f\u001b[0;34m(filepath_or_buffer, sep, delimiter, header, names, index_col, usecols, squeeze, prefix, mangle_dupe_cols, dtype, engine, converters, true_values, false_values, skipinitialspace, skiprows, nrows, na_values, keep_default_na, na_filter, verbose, skip_blank_lines, parse_dates, infer_datetime_format, keep_date_col, date_parser, dayfirst, iterator, chunksize, compression, thousands, decimal, lineterminator, quotechar, quoting, escapechar, comment, encoding, dialect, tupleize_cols, error_bad_lines, warn_bad_lines, skipfooter, skip_footer, doublequote, delim_whitespace, as_recarray, compact_ints, use_unsigned, low_memory, buffer_lines, memory_map, float_precision)\u001b[0m\n\u001b[1;32m    707\u001b[0m                     skip_blank_lines=skip_blank_lines)\n\u001b[1;32m    708\u001b[0m \u001b[0;34m\u001b[0m\u001b[0m\n\u001b[0;32m--> 709\u001b[0;31m         \u001b[0;32mreturn\u001b[0m \u001b[0m_read\u001b[0m\u001b[0;34m(\u001b[0m\u001b[0mfilepath_or_buffer\u001b[0m\u001b[0;34m,\u001b[0m \u001b[0mkwds\u001b[0m\u001b[0;34m)\u001b[0m\u001b[0;34m\u001b[0m\u001b[0;34m\u001b[0m\u001b[0m\n\u001b[0m\u001b[1;32m    710\u001b[0m \u001b[0;34m\u001b[0m\u001b[0m\n\u001b[1;32m    711\u001b[0m     \u001b[0mparser_f\u001b[0m\u001b[0;34m.\u001b[0m\u001b[0m__name__\u001b[0m \u001b[0;34m=\u001b[0m \u001b[0mname\u001b[0m\u001b[0;34m\u001b[0m\u001b[0;34m\u001b[0m\u001b[0m\n",
            "\u001b[0;32m/usr/local/lib/python3.6/dist-packages/pandas/io/parsers.py\u001b[0m in \u001b[0;36m_read\u001b[0;34m(filepath_or_buffer, kwds)\u001b[0m\n\u001b[1;32m    447\u001b[0m \u001b[0;34m\u001b[0m\u001b[0m\n\u001b[1;32m    448\u001b[0m     \u001b[0;31m# Create the parser.\u001b[0m\u001b[0;34m\u001b[0m\u001b[0;34m\u001b[0m\u001b[0;34m\u001b[0m\u001b[0m\n\u001b[0;32m--> 449\u001b[0;31m     \u001b[0mparser\u001b[0m \u001b[0;34m=\u001b[0m \u001b[0mTextFileReader\u001b[0m\u001b[0;34m(\u001b[0m\u001b[0mfilepath_or_buffer\u001b[0m\u001b[0;34m,\u001b[0m \u001b[0;34m**\u001b[0m\u001b[0mkwds\u001b[0m\u001b[0;34m)\u001b[0m\u001b[0;34m\u001b[0m\u001b[0;34m\u001b[0m\u001b[0m\n\u001b[0m\u001b[1;32m    450\u001b[0m \u001b[0;34m\u001b[0m\u001b[0m\n\u001b[1;32m    451\u001b[0m     \u001b[0;32mif\u001b[0m \u001b[0mchunksize\u001b[0m \u001b[0;32mor\u001b[0m \u001b[0miterator\u001b[0m\u001b[0;34m:\u001b[0m\u001b[0;34m\u001b[0m\u001b[0;34m\u001b[0m\u001b[0m\n",
            "\u001b[0;32m/usr/local/lib/python3.6/dist-packages/pandas/io/parsers.py\u001b[0m in \u001b[0;36m__init__\u001b[0;34m(self, f, engine, **kwds)\u001b[0m\n\u001b[1;32m    816\u001b[0m             \u001b[0mself\u001b[0m\u001b[0;34m.\u001b[0m\u001b[0moptions\u001b[0m\u001b[0;34m[\u001b[0m\u001b[0;34m'has_index_names'\u001b[0m\u001b[0;34m]\u001b[0m \u001b[0;34m=\u001b[0m \u001b[0mkwds\u001b[0m\u001b[0;34m[\u001b[0m\u001b[0;34m'has_index_names'\u001b[0m\u001b[0;34m]\u001b[0m\u001b[0;34m\u001b[0m\u001b[0;34m\u001b[0m\u001b[0m\n\u001b[1;32m    817\u001b[0m \u001b[0;34m\u001b[0m\u001b[0m\n\u001b[0;32m--> 818\u001b[0;31m         \u001b[0mself\u001b[0m\u001b[0;34m.\u001b[0m\u001b[0m_make_engine\u001b[0m\u001b[0;34m(\u001b[0m\u001b[0mself\u001b[0m\u001b[0;34m.\u001b[0m\u001b[0mengine\u001b[0m\u001b[0;34m)\u001b[0m\u001b[0;34m\u001b[0m\u001b[0;34m\u001b[0m\u001b[0m\n\u001b[0m\u001b[1;32m    819\u001b[0m \u001b[0;34m\u001b[0m\u001b[0m\n\u001b[1;32m    820\u001b[0m     \u001b[0;32mdef\u001b[0m \u001b[0mclose\u001b[0m\u001b[0;34m(\u001b[0m\u001b[0mself\u001b[0m\u001b[0;34m)\u001b[0m\u001b[0;34m:\u001b[0m\u001b[0;34m\u001b[0m\u001b[0;34m\u001b[0m\u001b[0m\n",
            "\u001b[0;32m/usr/local/lib/python3.6/dist-packages/pandas/io/parsers.py\u001b[0m in \u001b[0;36m_make_engine\u001b[0;34m(self, engine)\u001b[0m\n\u001b[1;32m   1047\u001b[0m     \u001b[0;32mdef\u001b[0m \u001b[0m_make_engine\u001b[0m\u001b[0;34m(\u001b[0m\u001b[0mself\u001b[0m\u001b[0;34m,\u001b[0m \u001b[0mengine\u001b[0m\u001b[0;34m=\u001b[0m\u001b[0;34m'c'\u001b[0m\u001b[0;34m)\u001b[0m\u001b[0;34m:\u001b[0m\u001b[0;34m\u001b[0m\u001b[0;34m\u001b[0m\u001b[0m\n\u001b[1;32m   1048\u001b[0m         \u001b[0;32mif\u001b[0m \u001b[0mengine\u001b[0m \u001b[0;34m==\u001b[0m \u001b[0;34m'c'\u001b[0m\u001b[0;34m:\u001b[0m\u001b[0;34m\u001b[0m\u001b[0;34m\u001b[0m\u001b[0m\n\u001b[0;32m-> 1049\u001b[0;31m             \u001b[0mself\u001b[0m\u001b[0;34m.\u001b[0m\u001b[0m_engine\u001b[0m \u001b[0;34m=\u001b[0m \u001b[0mCParserWrapper\u001b[0m\u001b[0;34m(\u001b[0m\u001b[0mself\u001b[0m\u001b[0;34m.\u001b[0m\u001b[0mf\u001b[0m\u001b[0;34m,\u001b[0m \u001b[0;34m**\u001b[0m\u001b[0mself\u001b[0m\u001b[0;34m.\u001b[0m\u001b[0moptions\u001b[0m\u001b[0;34m)\u001b[0m\u001b[0;34m\u001b[0m\u001b[0;34m\u001b[0m\u001b[0m\n\u001b[0m\u001b[1;32m   1050\u001b[0m         \u001b[0;32melse\u001b[0m\u001b[0;34m:\u001b[0m\u001b[0;34m\u001b[0m\u001b[0;34m\u001b[0m\u001b[0m\n\u001b[1;32m   1051\u001b[0m             \u001b[0;32mif\u001b[0m \u001b[0mengine\u001b[0m \u001b[0;34m==\u001b[0m \u001b[0;34m'python'\u001b[0m\u001b[0;34m:\u001b[0m\u001b[0;34m\u001b[0m\u001b[0;34m\u001b[0m\u001b[0m\n",
            "\u001b[0;32m/usr/local/lib/python3.6/dist-packages/pandas/io/parsers.py\u001b[0m in \u001b[0;36m__init__\u001b[0;34m(self, src, **kwds)\u001b[0m\n\u001b[1;32m   1693\u001b[0m         \u001b[0mkwds\u001b[0m\u001b[0;34m[\u001b[0m\u001b[0;34m'allow_leading_cols'\u001b[0m\u001b[0;34m]\u001b[0m \u001b[0;34m=\u001b[0m \u001b[0mself\u001b[0m\u001b[0;34m.\u001b[0m\u001b[0mindex_col\u001b[0m \u001b[0;32mis\u001b[0m \u001b[0;32mnot\u001b[0m \u001b[0;32mFalse\u001b[0m\u001b[0;34m\u001b[0m\u001b[0;34m\u001b[0m\u001b[0m\n\u001b[1;32m   1694\u001b[0m \u001b[0;34m\u001b[0m\u001b[0m\n\u001b[0;32m-> 1695\u001b[0;31m         \u001b[0mself\u001b[0m\u001b[0;34m.\u001b[0m\u001b[0m_reader\u001b[0m \u001b[0;34m=\u001b[0m \u001b[0mparsers\u001b[0m\u001b[0;34m.\u001b[0m\u001b[0mTextReader\u001b[0m\u001b[0;34m(\u001b[0m\u001b[0msrc\u001b[0m\u001b[0;34m,\u001b[0m \u001b[0;34m**\u001b[0m\u001b[0mkwds\u001b[0m\u001b[0;34m)\u001b[0m\u001b[0;34m\u001b[0m\u001b[0;34m\u001b[0m\u001b[0m\n\u001b[0m\u001b[1;32m   1696\u001b[0m \u001b[0;34m\u001b[0m\u001b[0m\n\u001b[1;32m   1697\u001b[0m         \u001b[0;31m# XXX\u001b[0m\u001b[0;34m\u001b[0m\u001b[0;34m\u001b[0m\u001b[0;34m\u001b[0m\u001b[0m\n",
            "\u001b[0;32mpandas/_libs/parsers.pyx\u001b[0m in \u001b[0;36mpandas._libs.parsers.TextReader.__cinit__\u001b[0;34m()\u001b[0m\n",
            "\u001b[0;32mpandas/_libs/parsers.pyx\u001b[0m in \u001b[0;36mpandas._libs.parsers.TextReader._setup_parser_source\u001b[0;34m()\u001b[0m\n",
            "\u001b[0;31mFileNotFoundError\u001b[0m: File b'../data/user_visit_duration.csv' does not exist"
          ]
        }
      ]
    },
    {
      "metadata": {
        "id": "WXdjaU2cColG",
        "colab_type": "code",
        "colab": {}
      },
      "cell_type": "code",
      "source": [
        "df.head()"
      ],
      "execution_count": 0,
      "outputs": []
    },
    {
      "metadata": {
        "id": "I4rqzNDLColI",
        "colab_type": "code",
        "colab": {}
      },
      "cell_type": "code",
      "source": [
        "df.plot(kind='scatter', x='Time (min)', y='Buy')"
      ],
      "execution_count": 0,
      "outputs": []
    },
    {
      "metadata": {
        "id": "GRaoIhQAColL",
        "colab_type": "code",
        "colab": {}
      },
      "cell_type": "code",
      "source": [
        "model = Sequential()\n",
        "model.add(Dense(1, input_shape=(1,), activation='sigmoid'))"
      ],
      "execution_count": 0,
      "outputs": []
    },
    {
      "metadata": {
        "id": "hQKLvtQTColO",
        "colab_type": "code",
        "colab": {}
      },
      "cell_type": "code",
      "source": [
        "model.compile(SGD(lr=0.5), 'binary_crossentropy', metrics=['accuracy'])"
      ],
      "execution_count": 0,
      "outputs": []
    },
    {
      "metadata": {
        "id": "McDqiTAaColP",
        "colab_type": "code",
        "colab": {}
      },
      "cell_type": "code",
      "source": [
        "model.summary()"
      ],
      "execution_count": 0,
      "outputs": []
    },
    {
      "metadata": {
        "id": "2IJTCRVHColT",
        "colab_type": "code",
        "colab": {}
      },
      "cell_type": "code",
      "source": [
        "X = df[['Time (min)']].values\n",
        "y = df['Buy'].values\n",
        "\n",
        "model.fit(X, y, epochs=25)"
      ],
      "execution_count": 0,
      "outputs": []
    },
    {
      "metadata": {
        "id": "TG4yhM2uColV",
        "colab_type": "code",
        "colab": {}
      },
      "cell_type": "code",
      "source": [
        "ax = df.plot(kind='scatter', x='Time (min)', y='Buy',\n",
        "             title='Purchase behavior VS time spent on site')\n",
        "\n",
        "temp = np.linspace(0, 4)\n",
        "ax.plot(temp, model.predict(temp), color='orange')\n",
        "plt.legend(['model', 'data'])"
      ],
      "execution_count": 0,
      "outputs": []
    },
    {
      "metadata": {
        "id": "qsF3mTsRColX",
        "colab_type": "code",
        "colab": {}
      },
      "cell_type": "code",
      "source": [
        "temp_class = model.predict(temp) > 0.5"
      ],
      "execution_count": 0,
      "outputs": []
    },
    {
      "metadata": {
        "id": "D1GxpzyxColY",
        "colab_type": "code",
        "colab": {}
      },
      "cell_type": "code",
      "source": [
        "ax = df.plot(kind='scatter', x='Time (min)', y='Buy',\n",
        "             title='Purchase behavior VS time spent on site')\n",
        "\n",
        "temp = np.linspace(0, 4)\n",
        "ax.plot(temp, temp_class, color='orange')\n",
        "plt.legend(['model', 'data'])"
      ],
      "execution_count": 0,
      "outputs": []
    },
    {
      "metadata": {
        "id": "dfHFEK7ZCola",
        "colab_type": "code",
        "colab": {}
      },
      "cell_type": "code",
      "source": [
        "y_pred = model.predict(X)\n",
        "y_class_pred = y_pred > 0.5"
      ],
      "execution_count": 0,
      "outputs": []
    },
    {
      "metadata": {
        "id": "Og-iSRm0Colc",
        "colab_type": "code",
        "colab": {}
      },
      "cell_type": "code",
      "source": [
        "from sklearn.metrics import accuracy_score"
      ],
      "execution_count": 0,
      "outputs": []
    },
    {
      "metadata": {
        "id": "ioIijmbsColg",
        "colab_type": "code",
        "colab": {}
      },
      "cell_type": "code",
      "source": [
        "print(\"The accuracy score is {:0.3f}\".format(accuracy_score(y, y_class_pred)))"
      ],
      "execution_count": 0,
      "outputs": []
    },
    {
      "metadata": {
        "id": "jNKEj04aColi",
        "colab_type": "text"
      },
      "cell_type": "markdown",
      "source": [
        "### Train/Test split\n"
      ]
    },
    {
      "metadata": {
        "id": "yqGs8A8OColi",
        "colab_type": "code",
        "colab": {}
      },
      "cell_type": "code",
      "source": [
        "X_train, X_test, y_train, y_test = train_test_split(X, y, test_size=0.2)"
      ],
      "execution_count": 0,
      "outputs": []
    },
    {
      "metadata": {
        "id": "JSiEmedrColl",
        "colab_type": "code",
        "colab": {}
      },
      "cell_type": "code",
      "source": [
        "params = model.get_weights()\n",
        "params = [np.zeros(w.shape) for w in params]\n",
        "model.set_weights(params)"
      ],
      "execution_count": 0,
      "outputs": []
    },
    {
      "metadata": {
        "id": "ZNabGmPHColm",
        "colab_type": "code",
        "colab": {}
      },
      "cell_type": "code",
      "source": [
        "print(\"The accuracy score is {:0.3f}\".format(accuracy_score(y, model.predict(X) > 0.5)))"
      ],
      "execution_count": 0,
      "outputs": []
    },
    {
      "metadata": {
        "id": "otda3HqVColo",
        "colab_type": "code",
        "colab": {}
      },
      "cell_type": "code",
      "source": [
        "model.fit(X_train, y_train, epochs=25, verbose=0)"
      ],
      "execution_count": 0,
      "outputs": []
    },
    {
      "metadata": {
        "id": "VG5Hb3ImColp",
        "colab_type": "code",
        "colab": {}
      },
      "cell_type": "code",
      "source": [
        "print(\"The train accuracy score is {:0.3f}\".format(accuracy_score(y_train, model.predict(X_train) > 0.5)))\n",
        "print(\"The test accuracy score is {:0.3f}\".format(accuracy_score(y_test, model.predict(X_test) > 0.5)))"
      ],
      "execution_count": 0,
      "outputs": []
    },
    {
      "metadata": {
        "id": "3gGGkzRXColr",
        "colab_type": "text"
      },
      "cell_type": "markdown",
      "source": [
        "## Cross Validation"
      ]
    },
    {
      "metadata": {
        "id": "JKL0W6bVColr",
        "colab_type": "code",
        "colab": {}
      },
      "cell_type": "code",
      "source": [
        "from keras.wrappers.scikit_learn import KerasClassifier"
      ],
      "execution_count": 0,
      "outputs": []
    },
    {
      "metadata": {
        "id": "Jkfk3B9aCols",
        "colab_type": "code",
        "colab": {}
      },
      "cell_type": "code",
      "source": [
        "def build_logistic_regression_model():\n",
        "    model = Sequential()\n",
        "    model.add(Dense(1, input_shape=(1,), activation='sigmoid'))\n",
        "    model.compile(SGD(lr=0.5),\n",
        "                  'binary_crossentropy',\n",
        "                  metrics=['accuracy'])\n",
        "    return model"
      ],
      "execution_count": 0,
      "outputs": []
    },
    {
      "metadata": {
        "id": "fG-VEA_uColu",
        "colab_type": "code",
        "colab": {}
      },
      "cell_type": "code",
      "source": [
        "model = KerasClassifier(build_fn=build_logistic_regression_model,\n",
        "                        epochs=25,\n",
        "                        verbose=0)"
      ],
      "execution_count": 0,
      "outputs": []
    },
    {
      "metadata": {
        "id": "GW50s9CoColx",
        "colab_type": "code",
        "colab": {}
      },
      "cell_type": "code",
      "source": [
        "from sklearn.model_selection import cross_val_score, KFold"
      ],
      "execution_count": 0,
      "outputs": []
    },
    {
      "metadata": {
        "id": "VyKHkrznColz",
        "colab_type": "code",
        "colab": {}
      },
      "cell_type": "code",
      "source": [
        "cv = KFold(3, shuffle=True)"
      ],
      "execution_count": 0,
      "outputs": []
    },
    {
      "metadata": {
        "id": "lEjIfuGoCol1",
        "colab_type": "code",
        "colab": {}
      },
      "cell_type": "code",
      "source": [
        "scores = cross_val_score(model, X, y, cv=cv)"
      ],
      "execution_count": 0,
      "outputs": []
    },
    {
      "metadata": {
        "id": "sS7MwCgVCol3",
        "colab_type": "code",
        "colab": {}
      },
      "cell_type": "code",
      "source": [
        "scores"
      ],
      "execution_count": 0,
      "outputs": []
    },
    {
      "metadata": {
        "id": "A2oeqcqlCol5",
        "colab_type": "code",
        "colab": {}
      },
      "cell_type": "code",
      "source": [
        "print(\"The cross validation accuracy is {:0.4f} ± {:0.4f}\".format(scores.mean(), scores.std()))"
      ],
      "execution_count": 0,
      "outputs": []
    },
    {
      "metadata": {
        "id": "XjYzs9qkCol8",
        "colab_type": "text"
      },
      "cell_type": "markdown",
      "source": [
        "## Confusion Matrix"
      ]
    },
    {
      "metadata": {
        "id": "vn9EjUJbCol8",
        "colab_type": "code",
        "colab": {}
      },
      "cell_type": "code",
      "source": [
        "from sklearn.metrics import confusion_matrix"
      ],
      "execution_count": 0,
      "outputs": []
    },
    {
      "metadata": {
        "scrolled": false,
        "id": "dsMGw3r2Col9",
        "colab_type": "code",
        "colab": {}
      },
      "cell_type": "code",
      "source": [
        "confusion_matrix(y, y_class_pred)"
      ],
      "execution_count": 0,
      "outputs": []
    },
    {
      "metadata": {
        "id": "qIfZbmtGCol_",
        "colab_type": "code",
        "colab": {}
      },
      "cell_type": "code",
      "source": [
        "def pretty_confusion_matrix(y_true, y_pred, labels=[\"False\", \"True\"]):\n",
        "    cm = confusion_matrix(y_true, y_pred)\n",
        "    pred_labels = ['Predicted '+ l for l in labels]\n",
        "    df = pd.DataFrame(cm, index=labels, columns=pred_labels)\n",
        "    return df"
      ],
      "execution_count": 0,
      "outputs": []
    },
    {
      "metadata": {
        "id": "f2t7IsFoComA",
        "colab_type": "code",
        "colab": {}
      },
      "cell_type": "code",
      "source": [
        "pretty_confusion_matrix(y, y_class_pred, ['Not Buy', 'Buy'])"
      ],
      "execution_count": 0,
      "outputs": []
    },
    {
      "metadata": {
        "id": "IoXPQgaUComC",
        "colab_type": "code",
        "colab": {}
      },
      "cell_type": "code",
      "source": [
        "from sklearn.metrics import precision_score, recall_score, f1_score"
      ],
      "execution_count": 0,
      "outputs": []
    },
    {
      "metadata": {
        "id": "xeI1stzFComD",
        "colab_type": "code",
        "colab": {}
      },
      "cell_type": "code",
      "source": [
        "print(\"Precision:\\t{:0.3f}\".format(precision_score(y, y_class_pred)))\n",
        "print(\"Recall:  \\t{:0.3f}\".format(recall_score(y, y_class_pred)))\n",
        "print(\"F1 Score:\\t{:0.3f}\".format(f1_score(y, y_class_pred)))"
      ],
      "execution_count": 0,
      "outputs": []
    },
    {
      "metadata": {
        "id": "sw1jFLFTComH",
        "colab_type": "code",
        "colab": {}
      },
      "cell_type": "code",
      "source": [
        "from sklearn.metrics import classification_report"
      ],
      "execution_count": 0,
      "outputs": []
    },
    {
      "metadata": {
        "id": "qHDaENNHComK",
        "colab_type": "code",
        "colab": {}
      },
      "cell_type": "code",
      "source": [
        "print(classification_report(y, y_class_pred))"
      ],
      "execution_count": 0,
      "outputs": []
    },
    {
      "metadata": {
        "id": "2oAKt3aVComN",
        "colab_type": "text"
      },
      "cell_type": "markdown",
      "source": [
        "## Feature Preprocessing"
      ]
    },
    {
      "metadata": {
        "id": "KLIaHlTyComO",
        "colab_type": "text"
      },
      "cell_type": "markdown",
      "source": [
        "### Categorical Features"
      ]
    },
    {
      "metadata": {
        "id": "WOLK_70aComO",
        "colab_type": "code",
        "colab": {}
      },
      "cell_type": "code",
      "source": [
        "df = pd.read_csv('../data/weight-height.csv')\n",
        "df.head()"
      ],
      "execution_count": 0,
      "outputs": []
    },
    {
      "metadata": {
        "id": "vkDg_dJTComQ",
        "colab_type": "code",
        "colab": {}
      },
      "cell_type": "code",
      "source": [
        "df['Gender'].unique()"
      ],
      "execution_count": 0,
      "outputs": []
    },
    {
      "metadata": {
        "id": "7MUJW9wdComS",
        "colab_type": "code",
        "colab": {}
      },
      "cell_type": "code",
      "source": [
        "pd.get_dummies(df['Gender'], prefix='Gender').head()"
      ],
      "execution_count": 0,
      "outputs": []
    },
    {
      "metadata": {
        "id": "VxmpDCWIComT",
        "colab_type": "text"
      },
      "cell_type": "markdown",
      "source": [
        "## Feature Transformations"
      ]
    },
    {
      "metadata": {
        "id": "QijKchmwComU",
        "colab_type": "text"
      },
      "cell_type": "markdown",
      "source": [
        "#### 1) Rescale with fixed factor"
      ]
    },
    {
      "metadata": {
        "id": "40tTTZKyComW",
        "colab_type": "code",
        "colab": {}
      },
      "cell_type": "code",
      "source": [
        "df['Height (feet)'] = df['Height']/12.0\n",
        "df['Weight (100 lbs)'] = df['Weight']/100.0"
      ],
      "execution_count": 0,
      "outputs": []
    },
    {
      "metadata": {
        "id": "qwAZ1QsOComZ",
        "colab_type": "code",
        "colab": {}
      },
      "cell_type": "code",
      "source": [
        "df.describe().round(2)"
      ],
      "execution_count": 0,
      "outputs": []
    },
    {
      "metadata": {
        "id": "_rsTeC6QComa",
        "colab_type": "text"
      },
      "cell_type": "markdown",
      "source": [
        "#### MinMax normalization"
      ]
    },
    {
      "metadata": {
        "id": "EWNUv3GXComb",
        "colab_type": "code",
        "colab": {}
      },
      "cell_type": "code",
      "source": [
        "from sklearn.preprocessing import MinMaxScaler\n",
        "\n",
        "mms = MinMaxScaler()\n",
        "df['Weight_mms'] = mms.fit_transform(df[['Weight']])\n",
        "df['Height_mms'] = mms.fit_transform(df[['Height']])\n",
        "df.describe().round(2)"
      ],
      "execution_count": 0,
      "outputs": []
    },
    {
      "metadata": {
        "id": "1z_Ehw7IComc",
        "colab_type": "text"
      },
      "cell_type": "markdown",
      "source": [
        "#### 3) Standard normalization"
      ]
    },
    {
      "metadata": {
        "id": "W02DGKEOComc",
        "colab_type": "code",
        "colab": {}
      },
      "cell_type": "code",
      "source": [
        "from sklearn.preprocessing import StandardScaler\n",
        "\n",
        "ss = StandardScaler()\n",
        "df['Weight_ss'] = ss.fit_transform(df[['Weight']])\n",
        "df['Height_ss'] = ss.fit_transform(df[['Height']])\n",
        "df.describe().round(2)"
      ],
      "execution_count": 0,
      "outputs": []
    },
    {
      "metadata": {
        "id": "Hc26SZr4Come",
        "colab_type": "code",
        "colab": {}
      },
      "cell_type": "code",
      "source": [
        "plt.figure(figsize=(15, 5))\n",
        "\n",
        "for i, feature in enumerate(['Height', 'Height (feet)', 'Height_mms', 'Height_ss']):\n",
        "    plt.subplot(1, 4, i+1)\n",
        "    df[feature].plot(kind='hist', title=feature)\n",
        "    plt.xlabel(feature)"
      ],
      "execution_count": 0,
      "outputs": []
    },
    {
      "metadata": {
        "id": "QLCe1_BkComf",
        "colab_type": "text"
      },
      "cell_type": "markdown",
      "source": [
        "# Machine Learning Exercises"
      ]
    },
    {
      "metadata": {
        "id": "cfXal8mZComf",
        "colab_type": "text"
      },
      "cell_type": "markdown",
      "source": [
        "## Exercise 1\n",
        "\n",
        "You've just been hired at a real estate investment firm and they would like you to build a model for pricing houses. You are given a dataset that contains data for house prices and a few features like number of bedrooms, size in square feet and age of the house. Let's see if you can build a model that is able to predict the price. In this exercise we extend what we have learned about linear regression to a dataset with more than one feature. Here are the steps to complete it:\n",
        "\n",
        "1. Load the dataset ../data/housing-data.csv\n",
        "- plot the histograms for each feature\n",
        "- create 2 variables called X and y: X shall be a matrix with 3 columns (sqft,bdrms,age) and y shall be a vector with 1 column (price)\n",
        "- create a linear regression model in Keras with the appropriate number of inputs and output\n",
        "- split the data into train and test with a 20% test size\n",
        "- train the model on the training set and check its accuracy on training and test set\n",
        "- how's your model doing? Is the loss growing smaller?\n",
        "- try to improve your model with these experiments:\n",
        "    - normalize the input features with one of the rescaling techniques mentioned above\n",
        "    - use a different value for the learning rate of your model\n",
        "    - use a different optimizer\n",
        "- once you're satisfied with training, check the R2score on the test set"
      ]
    },
    {
      "metadata": {
        "id": "0a-ExbYsComg",
        "colab_type": "code",
        "colab": {}
      },
      "cell_type": "code",
      "source": [
        ""
      ],
      "execution_count": 0,
      "outputs": []
    },
    {
      "metadata": {
        "id": "4hfhOEqoComh",
        "colab_type": "text"
      },
      "cell_type": "markdown",
      "source": [
        "## Exercise 2\n",
        "\n",
        "Your boss was extremely happy with your work on the housing price prediction model and decided to entrust you with a more challenging task. They've seen a lot of people leave the company recently and they would like to understand why that's happening. They have collected historical data on employees and they would like you to build a model that is able to predict which employee will leave next. The would like a model that is better than random guessing. They also prefer false negatives than false positives, in this first phase. Fields in the dataset include:\n",
        "\n",
        "- Employee satisfaction level\n",
        "- Last evaluation\n",
        "- Number of projects\n",
        "- Average monthly hours\n",
        "- Time spent at the company\n",
        "- Whether they have had a work accident\n",
        "- Whether they have had a promotion in the last 5 years\n",
        "- Department\n",
        "- Salary\n",
        "- Whether the employee has left\n",
        "\n",
        "Your goal is to predict the binary outcome variable `left` using the rest of the data. Since the outcome is binary, this is a classification problem. Here are some things you may want to try out:\n",
        "\n",
        "1. load the dataset at ../data/HR_comma_sep.csv, inspect it with `.head()`, `.info()` and `.describe()`.\n",
        "- Establish a benchmark: what would be your accuracy score if you predicted everyone stay?\n",
        "- Check if any feature needs rescaling. You may plot a histogram of the feature to decide which rescaling method is more appropriate.\n",
        "- convert the categorical features into binary dummy columns. You will then have to combine them with the numerical features using `pd.concat`.\n",
        "- do the usual train/test split with a 20% test size\n",
        "- play around with learning rate and optimizer\n",
        "- check the confusion matrix, precision and recall\n",
        "- check if you still get the same results if you use a 5-Fold cross validation on all the data\n",
        "- Is the model good enough for your boss?\n",
        "\n",
        "As you will see in this exercise, the a logistic regression model is not good enough to help your boss. In the next chapter we will learn how to go beyond linear models.\n",
        "\n",
        "This dataset comes from https://www.kaggle.com/ludobenistant/hr-analytics/ and is released under [CC BY-SA 4.0 License](https://creativecommons.org/licenses/by-sa/4.0/)."
      ]
    },
    {
      "metadata": {
        "id": "LcLBULq8Comh",
        "colab_type": "code",
        "colab": {}
      },
      "cell_type": "code",
      "source": [
        ""
      ],
      "execution_count": 0,
      "outputs": []
    }
  ]
}