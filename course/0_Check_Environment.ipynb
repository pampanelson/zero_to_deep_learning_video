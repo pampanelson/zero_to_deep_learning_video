{
  "nbformat": 4,
  "nbformat_minor": 0,
  "metadata": {
    "colab": {
      "name": "0_Check_Environment.ipynb",
      "version": "0.3.2",
      "provenance": []
    },
    "kernelspec": {
      "display_name": "Python 3",
      "language": "python",
      "name": "python3"
    }
  },
  "cells": [
    {
      "metadata": {
        "id": "wum9VpLf7PGR",
        "colab_type": "text"
      },
      "cell_type": "markdown",
      "source": [
        "## Environment\n",
        "\n",
        "The next command should return a line like (Mac/Linux):\n",
        "\n",
        "    /<YOUR-HOME-FOLDER>/anaconda/envs/ztdl/bin/python\n",
        "\n",
        "or like (Windows 10):\n",
        "\n",
        "    C:\\\\<YOUR-HOME-FOLDER>\\\\Anaconda3\\\\envs\\\\ztdl\\\\python.exe\n",
        "\n",
        "In particular you should make sure that you are using the python executable from within the course environment.\n",
        "\n",
        "If that's not the case do this:\n",
        "\n",
        "1. close this notebook\n",
        "2. go to the terminal and stop jupyer notebook\n",
        "3. make sure that you have activated the environment, you should see a prompt like:\n",
        "\n",
        "        (ztdl) $\n",
        "4. (optional) if you don't see that prompt activate the environment:\n",
        "    - mac/linux:\n",
        "    \n",
        "            conda activate ztdl\n",
        "\n",
        "    - windows:\n",
        "\n",
        "            activate ztdl\n",
        "5. restart jupyter notebook"
      ]
    },
    {
      "metadata": {
        "id": "ydzoF3MO7PGS",
        "colab_type": "code",
        "colab": {
          "base_uri": "https://localhost:8080/",
          "height": 34
        },
        "outputId": "f6213d67-e205-4b74-e4a5-e02ef6a42b0b"
      },
      "cell_type": "code",
      "source": [
        "import os\n",
        "import sys\n",
        "sys.executable"
      ],
      "execution_count": 1,
      "outputs": [
        {
          "output_type": "execute_result",
          "data": {
            "text/plain": [
              "'/usr/bin/python3'"
            ]
          },
          "metadata": {
            "tags": []
          },
          "execution_count": 1
        }
      ]
    },
    {
      "metadata": {
        "id": "CNPaIYEb7PGO",
        "colab_type": "text"
      },
      "cell_type": "markdown",
      "source": [
        "# Check Environment\n",
        "This notebook checks that you have correctly created the environment and that all packages needed are installed."
      ]
    },
    {
      "metadata": {
        "id": "INSw-JhU7PGY",
        "colab_type": "text"
      },
      "cell_type": "markdown",
      "source": [
        "## Python 3.6\n",
        "\n",
        "The next line should say that you're using Python 3.6.x from Continuum Analytics. At the time of publication it looks like this (Mac/Linux):\n",
        "\n",
        "    Python 3.6.7 |Anaconda, Inc.| (default, Oct 23 2018, 14:01:38)\n",
        "    [GCC 4.2.1 Compatible Clang 4.0.1 (tags/RELEASE_401/final)] on darwin\n",
        "    Type \"help\", \"copyright\", \"credits\" or \"license\" for more information.\n",
        "\n",
        "or like this (Windows 10):\n",
        "\n",
        "    Python 3.6.7 |Anaconda, Inc.| (default, Oct 28 2018, 19:44:12) [MSC v.1915 64 bit (AMD64)] on win32\n",
        "    Type \"help\", \"copyright\", \"credits\" or \"license\" for more information.\n",
        "\n",
        "but date and exact version of GCC may change in the future.\n",
        "\n",
        "If you see a different version of python, go back to the previous step and make sure you created and activated the environment correctly."
      ]
    },
    {
      "metadata": {
        "id": "MOa9tNB97PGZ",
        "colab_type": "code",
        "colab": {
          "base_uri": "https://localhost:8080/",
          "height": 34
        },
        "outputId": "fffe7205-dc38-4c4a-da33-ca783562d757"
      },
      "cell_type": "code",
      "source": [
        "import sys\n",
        "sys.version"
      ],
      "execution_count": 2,
      "outputs": [
        {
          "output_type": "execute_result",
          "data": {
            "text/plain": [
              "'3.6.7 (default, Oct 22 2018, 11:32:17) \\n[GCC 8.2.0]'"
            ]
          },
          "metadata": {
            "tags": []
          },
          "execution_count": 2
        }
      ]
    },
    {
      "metadata": {
        "id": "5K3b_z9v7PGc",
        "colab_type": "text"
      },
      "cell_type": "markdown",
      "source": [
        "## Jupyter\n",
        "\n",
        "Check that Jupyter is running from within the environment. The next line should look like (Mac/Linux):\n",
        "\n",
        "    /<YOUR-HOME-FOLDER>/anaconda/envs/ztdl/lib/python3.6/site-packages/jupyter.py'\n",
        "\n",
        "or like this (Windows 10):\n",
        "\n",
        "    C:\\\\Users\\\\paperspace\\\\Anaconda3\\\\envs\\\\ztdl\\\\lib\\\\site-packages\\\\jupyter.py"
      ]
    },
    {
      "metadata": {
        "id": "1RH0ZCx67PGd",
        "colab_type": "code",
        "colab": {
          "base_uri": "https://localhost:8080/",
          "height": 34
        },
        "outputId": "77c09455-aac5-4c7e-c7ba-cdac1c4261cc"
      },
      "cell_type": "code",
      "source": [
        "import jupyter\n",
        "jupyter.__file__"
      ],
      "execution_count": 3,
      "outputs": [
        {
          "output_type": "execute_result",
          "data": {
            "text/plain": [
              "'/usr/local/lib/python3.6/dist-packages/jupyter.py'"
            ]
          },
          "metadata": {
            "tags": []
          },
          "execution_count": 3
        }
      ]
    },
    {
      "metadata": {
        "id": "DcH8GFZe7PGh",
        "colab_type": "text"
      },
      "cell_type": "markdown",
      "source": [
        "## Other packages\n",
        "\n",
        "Here we will check that all the packages are installed and have the correct versions. If everything is ok you should see:\n",
        "    \n",
        "    Using TensorFlow backend.\n",
        "    \n",
        "    Houston we are go!\n",
        "\n",
        "If there's any issue here please make sure you have checked the previous steps and if it's all good please send us a question in the Q&A forum."
      ]
    },
    {
      "metadata": {
        "id": "51hEVLuJ7PGi",
        "colab_type": "code",
        "colab": {
          "base_uri": "https://localhost:8080/",
          "height": 34
        },
        "outputId": "3269e343-dec9-443e-b370-35b64e7abc59"
      },
      "cell_type": "code",
      "source": [
        "import pip\n",
        "import numpy\n",
        "import jupyter\n",
        "import matplotlib\n",
        "import sklearn\n",
        "import scipy\n",
        "import pandas\n",
        "import PIL\n",
        "import seaborn\n",
        "import h5py\n",
        "import tensorflow\n",
        "import keras\n",
        "\n",
        "\n",
        "def check_version(pkg, version):\n",
        "    actual = pkg.__version__.split('.')\n",
        "    if len(actual) == 3:\n",
        "        actual_major = '.'.join(actual[:2])\n",
        "    elif len(actual) == 2:\n",
        "        actual_major = '.'.join(actual)\n",
        "    else:\n",
        "        raise NotImplementedError(pkg.__name__ +\n",
        "                                  \"actual version :\"+\n",
        "                                  pkg.__version__)\n",
        "    try:\n",
        "        assert(actual_major == version)\n",
        "    except Exception as ex:\n",
        "        print(\"{} {}\\t=> {}\".format(pkg.__name__,\n",
        "                                    version,\n",
        "                                    pkg.__version__))\n",
        "        raise ex\n",
        "\n",
        "check_version(pip, '19.0')\n",
        "check_version(numpy, '1.14')\n",
        "check_version(matplotlib, '3.0')\n",
        "check_version(sklearn, '0.20')\n",
        "check_version(scipy, '1.1')\n",
        "check_version(pandas, '0.22')\n",
        "check_version(PIL, '4.1')\n",
        "check_version(seaborn, '0.7')\n",
        "check_version(h5py, '2.8')\n",
        "check_version(tensorflow, '1.13')\n",
        "check_version(keras, '2.2')\n",
        "\n",
        "print(\"Houston we are go!\")"
      ],
      "execution_count": 10,
      "outputs": [
        {
          "output_type": "stream",
          "text": [
            "Houston we are go!\n"
          ],
          "name": "stdout"
        }
      ]
    },
    {
      "metadata": {
        "id": "QcWDHf_q7PGl",
        "colab_type": "code",
        "colab": {}
      },
      "cell_type": "code",
      "source": [
        ""
      ],
      "execution_count": 0,
      "outputs": []
    }
  ]
}